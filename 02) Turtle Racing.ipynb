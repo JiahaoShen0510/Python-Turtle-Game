{
 "cells": [
  {
   "cell_type": "code",
   "execution_count": null,
   "metadata": {},
   "outputs": [],
   "source": [
    "import turtle as t\n",
    "import random"
   ]
  },
  {
   "cell_type": "code",
   "execution_count": null,
   "metadata": {},
   "outputs": [],
   "source": [
    "t.colormode(255)\n",
    "\n",
    "def color():\n",
    "    r=random.randint(0,255)\n",
    "    b=random.randint(0,255)\n",
    "    g=random.randint(0,255)\n",
    "    return (r,g,b)\n",
    "\n",
    "y_position=[260,220,180,140,100,60,20,-20,-60,-100,-140,-180,-220,-260]\n",
    "all_turtles=[]\n",
    "\n",
    "for i in range (14):\n",
    "    new_turtle=t.Turtle()\n",
    "    new_turtle.penup()\n",
    "    new_turtle.speed(3)\n",
    "    new_turtle.shape(\"turtle\")\n",
    "    new_turtle.color(color())\n",
    "    new_turtle.goto(x=-600, y=y_position[i])\n",
    "    all_turtles.append(new_turtle)\n",
    "        \n",
    "race=True\n",
    "\n",
    "while race:\n",
    "    for turtle in all_turtles:\n",
    "        if turtle.xcor()>600:\n",
    "            race=False\n",
    "            index=all_turtles.index(turtle)\n",
    "            print (f\"The winner turtle is No {index+1}\")\n",
    "        distance=random.randint(0,10)\n",
    "        turtle.forward(distance)\n",
    "\n",
    "        \n",
    "t.exitonclick()"
   ]
  }
 ],
 "metadata": {
  "kernelspec": {
   "display_name": "Python 3",
   "language": "python",
   "name": "python3"
  },
  "language_info": {
   "codemirror_mode": {
    "name": "ipython",
    "version": 3
   },
   "file_extension": ".py",
   "mimetype": "text/x-python",
   "name": "python",
   "nbconvert_exporter": "python",
   "pygments_lexer": "ipython3",
   "version": "3.7.6"
  }
 },
 "nbformat": 4,
 "nbformat_minor": 4
}
