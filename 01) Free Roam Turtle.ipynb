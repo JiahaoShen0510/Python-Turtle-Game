{
 "cells": [
  {
   "cell_type": "code",
   "execution_count": 1,
   "metadata": {},
   "outputs": [],
   "source": [
    "import turtle as t\n",
    "import random"
   ]
  },
  {
   "cell_type": "code",
   "execution_count": 2,
   "metadata": {},
   "outputs": [],
   "source": [
    "t0=t.Turtle()\n",
    "screen=t.Screen()\n",
    "t.colormode(255)\n",
    "\n",
    "t0.shape(\"turtle\")\n",
    "\n",
    "def color():\n",
    "    r=random.randint(0,255)\n",
    "    g=random.randint(0,255)\n",
    "    b=random.randint(0,255)\n",
    "    return (r,g,b)\n",
    "\n",
    "t0.color(color())\n",
    "\n",
    "def forward():\n",
    "    t0.forward(10)\n",
    "    \n",
    "def backward():\n",
    "    t0.backward(10)\n",
    "    \n",
    "def left():\n",
    "    new_heading=t0.heading()+10\n",
    "    t0.setheading(new_heading)\n",
    "    \n",
    "def right():\n",
    "    new_heading=t0.heading()-10\n",
    "    t0.setheading(new_heading)\n",
    "    \n",
    "def clear():\n",
    "    t0.clear()\n",
    "    t0.penup()\n",
    "    t0.home()\n",
    "    t0.pendown()\n",
    "    \n",
    "screen.listen()\n",
    "screen.onkey(forward,\"w\")\n",
    "screen.onkey(backward,\"s\")\n",
    "screen.onkey(left,\"a\")\n",
    "screen.onkey(right,\"d\")\n",
    "screen.onkey(clear,\"c\")\n",
    "\n",
    "t.exitonclick()"
   ]
  }
 ],
 "metadata": {
  "kernelspec": {
   "display_name": "Python 3",
   "language": "python",
   "name": "python3"
  },
  "language_info": {
   "codemirror_mode": {
    "name": "ipython",
    "version": 3
   },
   "file_extension": ".py",
   "mimetype": "text/x-python",
   "name": "python",
   "nbconvert_exporter": "python",
   "pygments_lexer": "ipython3",
   "version": "3.7.6"
  }
 },
 "nbformat": 4,
 "nbformat_minor": 4
}
